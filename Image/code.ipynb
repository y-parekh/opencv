{
  "nbformat": 4,
  "nbformat_minor": 0,
  "metadata": {
    "colab": {
      "name": "Task1.ipynb",
      "provenance": []
    },
    "kernelspec": {
      "name": "python3",
      "display_name": "Python 3"
    }
  },
  "cells": [
    {
      "cell_type": "code",
      "metadata": {
        "id": "PkBrmTltZdJI",
        "colab_type": "code",
        "colab": {}
      },
      "source": [
        "# 1.0\n",
        "import cv2\n",
        "import sys\n",
        "\n",
        "# 1.1\n",
        "# Loading the image and coverting to grayscale\n",
        "path = \"img.jpg\"\n",
        "image = cv2.imread(path)\n",
        "gray = cv2.cvtColor(image, cv2.COLOR_BGR2GRAY)\n",
        "\n",
        "# 1.2\n",
        "# Loading face detector model that uses haar cascades\n",
        "faceCascade = cv2.CascadeClassifier(cv2.data.haarcascades \n",
        "                                    + \"haarcascade_frontalface_default.xml\")\n",
        "\n",
        "# 1.3\n",
        "# Specifying custom parameters to ensure better detection, \n",
        "# depending on the image\n",
        "faces = faceCascade.detectMultiScale(\n",
        "    gray,\n",
        "    scaleFactor=1.3,\n",
        "    minNeighbors=1,\n",
        "    minSize=(30,30)\n",
        ")\n",
        "\n",
        "# 1.4\n",
        "# Total number of found faces\n",
        "print(\"Found {} Faces!\".format(len(faces)))\n",
        "\n",
        "# 1.5\n",
        "# Drawing a box around the detected faces \n",
        "# and saving to new output image file\n",
        "for (x, y, w, h) in faces:\n",
        "  cv2.rectangle(image, (x,y), (x+w, y+h), (0, 255, 0), 2)\n",
        "\n",
        "# 1.6\n",
        "# Returns true if success\n",
        "status = cv2.imwrite(\"faces.jpg\", image)\n",
        "print(status)\n",
        "\n",
        "# Done!"
      ],
      "execution_count": 0,
      "outputs": []
    }
  ]
}